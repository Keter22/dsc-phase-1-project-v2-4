{
 "cells": [
  {
   "cell_type": "markdown",
   "metadata": {},
   "source": [
    "## Final Project Submission\n",
    "\n",
    "Please fill out: \n",
    "* Student name: Mathew Kiprotich\n",
    "* Student pace: / full time\n",
    "* Scheduled project review date/time: 03/18/2024\n",
    "* Instructor name: Diana Mongina\n",
    "* Blog post URL:\n"
   ]
  },
  {
   "cell_type": "markdown",
   "metadata": {},
   "source": [
    "\n",
    " \n",
    " 1.INTRO;\n",
    "    Overview\n",
    "\n",
    "The project's main aim is to provide insights to assist Microsoft in entering and succeeding in the movie industry. We will conduct exploratory data analysis to discover useful information that can guide decisions on the kinds of films Microsoft should produce.\n",
    "\n",
    "\n",
    " 2.OBJECTIVES;\n",
    "     overal goals  \n",
    "\n",
    "We will explore and analyze the types of movies that are currently popular at the box office. Then, we'll use what we find to decide what kinds of movies Microsoft should make.\n",
    "\n",
    "     \n"
   ]
  }
 ],
 "metadata": {
  "kernelspec": {
   "display_name": "Python 3",
   "language": "python",
   "name": "python3"
  },
  "language_info": {
   "codemirror_mode": {
    "name": "ipython",
    "version": 3
   },
   "file_extension": ".py",
   "mimetype": "text/x-python",
   "name": "python",
   "nbconvert_exporter": "python",
   "pygments_lexer": "ipython3",
   "version": "3.6.4"
  }
 },
 "nbformat": 4,
 "nbformat_minor": 2
}
